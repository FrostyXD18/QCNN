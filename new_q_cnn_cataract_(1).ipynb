{
  "metadata": {
    "kernelspec": {
      "language": "python",
      "display_name": "Python 3",
      "name": "python3"
    },
    "language_info": {
      "name": "python",
      "version": "3.10.12",
      "mimetype": "text/x-python",
      "codemirror_mode": {
        "name": "ipython",
        "version": 3
      },
      "pygments_lexer": "ipython3",
      "nbconvert_exporter": "python",
      "file_extension": ".py"
    },
    "kaggle": {
      "accelerator": "none",
      "dataSources": [
        {
          "sourceId": 636067,
          "sourceType": "datasetVersion",
          "datasetId": 314116
        },
        {
          "sourceId": 1512919,
          "sourceType": "datasetVersion",
          "datasetId": 611716
        }
      ],
      "dockerImageVersionId": 30919,
      "isInternetEnabled": true,
      "language": "python",
      "sourceType": "notebook",
      "isGpuEnabled": false
    },
    "colab": {
      "provenance": [],
      "include_colab_link": true
    }
  },
  "nbformat_minor": 0,
  "nbformat": 4,
  "cells": [
    {
      "cell_type": "markdown",
      "metadata": {
        "id": "view-in-github",
        "colab_type": "text"
      },
      "source": [
        "<a href=\"https://colab.research.google.com/github/FrostyXD18/QCNN/blob/main/new_q_cnn_cataract_(1).ipynb\" target=\"_parent\"><img src=\"https://colab.research.google.com/assets/colab-badge.svg\" alt=\"Open In Colab\"/></a>"
      ]
    },
    {
      "cell_type": "code",
      "source": [
        "# This Python 3 environment comes with many helpful analytics libraries installed\n",
        "# It is defined by the kaggle/python Docker image: https://github.com/kaggle/docker-python\n",
        "# For example, here's several helpful packages to load\n",
        "\n",
        "import numpy as np # linear algebra\n",
        "import pandas as pd # data processing, CSV file I/O (e.g. pd.read_csv)\n",
        "\n",
        "# Input data files are available in the read-only \"../input/\" directory\n",
        "# For example, running this (by clicking run or pressing Shift+Enter) will list all files under the input directory\n",
        "\n",
        "import os\n",
        "# for dirname, _, filenames in os.walk('/kaggle/input'):\n",
        "#     for filename in filenames:\n",
        "#        os.path.join(dirname, filename)\n",
        "\n",
        "# You can write up to 20GB to the current directory (/kaggle/working/) that gets preserved as output when you create a version using \"Save & Run All\"\n",
        "# You can also write temporary files to /kaggle/temp/, but they won't be saved outside of the current session"
      ],
      "metadata": {
        "_uuid": "8f2839f25d086af736a60e9eeb907d3b93b6e0e5",
        "_cell_guid": "b1076dfc-b9ad-4769-8c92-a6c4dae69d19",
        "trusted": true,
        "execution": {
          "iopub.status.busy": "2025-05-01T05:28:54.191258Z",
          "iopub.execute_input": "2025-05-01T05:28:54.191485Z",
          "iopub.status.idle": "2025-05-01T05:28:54.195386Z",
          "shell.execute_reply.started": "2025-05-01T05:28:54.191463Z",
          "shell.execute_reply": "2025-05-01T05:28:54.194595Z"
        },
        "id": "QPc0rnVLfA2h"
      },
      "outputs": [],
      "execution_count": null
    },
    {
      "cell_type": "code",
      "source": [
        "# IMPORTANT: RUN THIS CELL IN ORDER TO IMPORT YOUR KAGGLE DATA SOURCES,\n",
        "# THEN FEEL FREE TO DELETE THIS CELL.\n",
        "# NOTE: THIS NOTEBOOK ENVIRONMENT DIFFERS FROM KAGGLE'S PYTHON\n",
        "# ENVIRONMENT SO THERE MAY BE MISSING LIBRARIES USED BY YOUR\n",
        "# NOTEBOOK.\n",
        "# import kagglehub\n",
        "# jr2ngb_cataractdataset_path = kagglehub.dataset_download('jr2ngb/cataractdataset')\n",
        "# andrewmvd_ocular_disease_recognition_odir5k_path = kagglehub.dataset_download('andrewmvd/ocular-disease-recognition-odir5k')\n",
        "\n",
        "# print('Data source import complete.')\n"
      ],
      "metadata": {
        "trusted": true,
        "execution": {
          "iopub.status.busy": "2025-05-01T05:25:57.081288Z",
          "iopub.execute_input": "2025-05-01T05:25:57.081531Z",
          "iopub.status.idle": "2025-05-01T05:25:57.091157Z",
          "shell.execute_reply.started": "2025-05-01T05:25:57.081510Z",
          "shell.execute_reply": "2025-05-01T05:25:57.090327Z"
        },
        "id": "BEe_TAQlfA2k"
      },
      "outputs": [],
      "execution_count": null
    },
    {
      "cell_type": "code",
      "source": [
        "# ─── VERY FIRST CELL ───────────────────────────────────────────────────────────\n",
        "import os\n",
        "# Ask TF to grow GPU memory as needed (instead of pre-allocating all)\n",
        "os.environ['TF_FORCE_GPU_ALLOW_GROWTH'] = 'true'\n",
        "\n",
        "# Now import TF\n",
        "import tensorflow as tf\n",
        "\n",
        "# Discover GPUs\n",
        "gpus = tf.config.list_physical_devices('GPU')\n",
        "if gpus:\n",
        "    strategy = tf.distribute.MirroredStrategy()\n",
        "    print(f\"Found {len(gpus)} GPUs → using MirroredStrategy with {strategy.num_replicas_in_sync} replicas\")\n",
        "else:\n",
        "    strategy = tf.distribute.get_strategy()\n",
        "    print(\"No GPU found → using default (CPU) strategy\")\n",
        "# ───────────────────────────────────────────────────────────────────────────────\n"
      ],
      "metadata": {
        "trusted": true,
        "execution": {
          "iopub.status.busy": "2025-05-01T05:28:54.196398Z",
          "iopub.execute_input": "2025-05-01T05:28:54.196770Z",
          "iopub.status.idle": "2025-05-01T05:28:55.444329Z",
          "shell.execute_reply.started": "2025-05-01T05:28:54.196739Z",
          "shell.execute_reply": "2025-05-01T05:28:55.443607Z"
        },
        "id": "DMk9hztyfA2k",
        "outputId": "ad2ee35c-f567-400c-b568-5c560298ab47"
      },
      "outputs": [
        {
          "name": "stdout",
          "text": "Found 2 GPUs → using MirroredStrategy with 2 replicas\n",
          "output_type": "stream"
        }
      ],
      "execution_count": null
    },
    {
      "cell_type": "code",
      "source": [
        "!pip install efficientnet qiskit\n",
        "import os, glob, cv2\n",
        "import numpy as np\n",
        "import pandas as pd\n",
        "import matplotlib.pyplot as plt\n",
        "from sklearn.model_selection import train_test_split\n",
        "# import tensorflow as tf\n",
        "from tensorflow.keras.layers import *\n",
        "from tensorflow.keras import backend as K\n",
        "from tensorflow.keras.models import Sequential\n",
        "from tensorflow.keras.preprocessing.image import ImageDataGenerator\n",
        "from tensorflow.keras.utils import get_custom_objects\n",
        "import efficientnet.tfkeras as efn\n",
        "from tqdm import tqdm"
      ],
      "metadata": {
        "trusted": true,
        "execution": {
          "iopub.status.busy": "2025-05-01T05:29:09.737865Z",
          "iopub.execute_input": "2025-05-01T05:29:09.738145Z",
          "iopub.status.idle": "2025-05-01T05:29:18.218248Z",
          "shell.execute_reply.started": "2025-05-01T05:29:09.738124Z",
          "shell.execute_reply": "2025-05-01T05:29:18.217524Z"
        },
        "id": "UsbX-9KvfA2m",
        "outputId": "0b74105f-eccc-41bf-d159-155010225f91"
      },
      "outputs": [
        {
          "name": "stdout",
          "text": "Collecting efficientnet\n  Downloading efficientnet-1.1.1-py3-none-any.whl.metadata (6.4 kB)\nCollecting qiskit\n  Downloading qiskit-2.0.0-cp39-abi3-manylinux_2_17_x86_64.manylinux2014_x86_64.whl.metadata (12 kB)\nCollecting keras-applications<=1.0.8,>=1.0.7 (from efficientnet)\n  Downloading Keras_Applications-1.0.8-py3-none-any.whl.metadata (1.7 kB)\nRequirement already satisfied: scikit-image in /usr/local/lib/python3.10/dist-packages (from efficientnet) (0.25.0)\nCollecting rustworkx>=0.15.0 (from qiskit)\n  Downloading rustworkx-0.16.0-cp39-abi3-manylinux_2_17_x86_64.manylinux2014_x86_64.whl.metadata (10 kB)\nRequirement already satisfied: numpy<3,>=1.17 in /usr/local/lib/python3.10/dist-packages (from qiskit) (1.26.4)\nRequirement already satisfied: scipy>=1.5 in /usr/local/lib/python3.10/dist-packages (from qiskit) (1.13.1)\nRequirement already satisfied: sympy>=1.3 in /usr/local/lib/python3.10/dist-packages (from qiskit) (1.13.1)\nRequirement already satisfied: dill>=0.3 in /usr/local/lib/python3.10/dist-packages (from qiskit) (0.3.8)\nRequirement already satisfied: python-dateutil>=2.8.0 in /usr/local/lib/python3.10/dist-packages (from qiskit) (2.9.0.post0)\nCollecting stevedore>=3.0.0 (from qiskit)\n  Downloading stevedore-5.4.1-py3-none-any.whl.metadata (2.3 kB)\nRequirement already satisfied: typing-extensions in /usr/local/lib/python3.10/dist-packages (from qiskit) (4.12.2)\nCollecting symengine<0.14,>=0.11 (from qiskit)\n  Downloading symengine-0.13.0-cp310-cp310-manylinux_2_17_x86_64.manylinux2014_x86_64.whl.metadata (1.2 kB)\nRequirement already satisfied: h5py in /usr/local/lib/python3.10/dist-packages (from keras-applications<=1.0.8,>=1.0.7->efficientnet) (3.12.1)\nRequirement already satisfied: mkl_fft in /usr/local/lib/python3.10/dist-packages (from numpy<3,>=1.17->qiskit) (1.3.8)\nRequirement already satisfied: mkl_random in /usr/local/lib/python3.10/dist-packages (from numpy<3,>=1.17->qiskit) (1.2.4)\nRequirement already satisfied: mkl_umath in /usr/local/lib/python3.10/dist-packages (from numpy<3,>=1.17->qiskit) (0.1.1)\nRequirement already satisfied: mkl in /usr/local/lib/python3.10/dist-packages (from numpy<3,>=1.17->qiskit) (2025.0.1)\nRequirement already satisfied: tbb4py in /usr/local/lib/python3.10/dist-packages (from numpy<3,>=1.17->qiskit) (2022.0.0)\nRequirement already satisfied: mkl-service in /usr/local/lib/python3.10/dist-packages (from numpy<3,>=1.17->qiskit) (2.4.1)\nRequirement already satisfied: six>=1.5 in /usr/local/lib/python3.10/dist-packages (from python-dateutil>=2.8.0->qiskit) (1.17.0)\nCollecting pbr>=2.0.0 (from stevedore>=3.0.0->qiskit)\n  Downloading pbr-6.1.1-py2.py3-none-any.whl.metadata (3.4 kB)\nRequirement already satisfied: mpmath<1.4,>=1.1.0 in /usr/local/lib/python3.10/dist-packages (from sympy>=1.3->qiskit) (1.3.0)\nRequirement already satisfied: networkx>=3.0 in /usr/local/lib/python3.10/dist-packages (from scikit-image->efficientnet) (3.4.2)\nRequirement already satisfied: pillow>=10.1 in /usr/local/lib/python3.10/dist-packages (from scikit-image->efficientnet) (11.0.0)\nRequirement already satisfied: imageio!=2.35.0,>=2.33 in /usr/local/lib/python3.10/dist-packages (from scikit-image->efficientnet) (2.36.1)\nRequirement already satisfied: tifffile>=2022.8.12 in /usr/local/lib/python3.10/dist-packages (from scikit-image->efficientnet) (2024.12.12)\nRequirement already satisfied: packaging>=21 in /usr/local/lib/python3.10/dist-packages (from scikit-image->efficientnet) (24.2)\nRequirement already satisfied: lazy-loader>=0.4 in /usr/local/lib/python3.10/dist-packages (from scikit-image->efficientnet) (0.4)\nRequirement already satisfied: setuptools in /usr/local/lib/python3.10/dist-packages (from pbr>=2.0.0->stevedore>=3.0.0->qiskit) (75.1.0)\nRequirement already satisfied: intel-openmp>=2024 in /usr/local/lib/python3.10/dist-packages (from mkl->numpy<3,>=1.17->qiskit) (2024.2.0)\nRequirement already satisfied: tbb==2022.* in /usr/local/lib/python3.10/dist-packages (from mkl->numpy<3,>=1.17->qiskit) (2022.0.0)\nRequirement already satisfied: tcmlib==1.* in /usr/local/lib/python3.10/dist-packages (from tbb==2022.*->mkl->numpy<3,>=1.17->qiskit) (1.2.0)\nRequirement already satisfied: intel-cmplr-lib-rt in /usr/local/lib/python3.10/dist-packages (from mkl_umath->numpy<3,>=1.17->qiskit) (2024.2.0)\nRequirement already satisfied: intel-cmplr-lib-ur==2024.2.0 in /usr/local/lib/python3.10/dist-packages (from intel-openmp>=2024->mkl->numpy<3,>=1.17->qiskit) (2024.2.0)\nDownloading efficientnet-1.1.1-py3-none-any.whl (18 kB)\nDownloading qiskit-2.0.0-cp39-abi3-manylinux_2_17_x86_64.manylinux2014_x86_64.whl (6.5 MB)\n\u001b[2K   \u001b[90m━━━━━━━━━━━━━━━━━━━━━━━━━━━━━━━━━━━━━━━━\u001b[0m \u001b[32m6.5/6.5 MB\u001b[0m \u001b[31m68.3 MB/s\u001b[0m eta \u001b[36m0:00:00\u001b[0m:00:01\u001b[0m0:01\u001b[0m\n\u001b[?25hDownloading Keras_Applications-1.0.8-py3-none-any.whl (50 kB)\n\u001b[2K   \u001b[90m━━━━━━━━━━━━━━━━━━━━━━━━━━━━━━━━━━━━━━━━\u001b[0m \u001b[32m50.7/50.7 kB\u001b[0m \u001b[31m2.7 MB/s\u001b[0m eta \u001b[36m0:00:00\u001b[0m\n\u001b[?25hDownloading rustworkx-0.16.0-cp39-abi3-manylinux_2_17_x86_64.manylinux2014_x86_64.whl (2.1 MB)\n\u001b[2K   \u001b[90m━━━━━━━━━━━━━━━━━━━━━━━━━━━━━━━━━━━━━━━━\u001b[0m \u001b[32m2.1/2.1 MB\u001b[0m \u001b[31m66.4 MB/s\u001b[0m eta \u001b[36m0:00:00\u001b[0m\n\u001b[?25hDownloading stevedore-5.4.1-py3-none-any.whl (49 kB)\n\u001b[2K   \u001b[90m━━━━━━━━━━━━━━━━━━━━━━━━━━━━━━━━━━━━━━━━\u001b[0m \u001b[32m49.5/49.5 kB\u001b[0m \u001b[31m2.6 MB/s\u001b[0m eta \u001b[36m0:00:00\u001b[0m\n\u001b[?25hDownloading symengine-0.13.0-cp310-cp310-manylinux_2_17_x86_64.manylinux2014_x86_64.whl (49.7 MB)\n\u001b[2K   \u001b[90m━━━━━━━━━━━━━━━━━━━━━━━━━━━━━━━━━━━━━━━━\u001b[0m \u001b[32m49.7/49.7 MB\u001b[0m \u001b[31m36.7 MB/s\u001b[0m eta \u001b[36m0:00:00\u001b[0m:00:01\u001b[0m00:01\u001b[0m\n\u001b[?25hDownloading pbr-6.1.1-py2.py3-none-any.whl (108 kB)\n\u001b[2K   \u001b[90m━━━━━━━━━━━━━━━━━━━━━━━━━━━━━━━━━━━━━━━━\u001b[0m \u001b[32m109.0/109.0 kB\u001b[0m \u001b[31m5.8 MB/s\u001b[0m eta \u001b[36m0:00:00\u001b[0m\n\u001b[?25hInstalling collected packages: symengine, pbr, stevedore, rustworkx, keras-applications, qiskit, efficientnet\nSuccessfully installed efficientnet-1.1.1 keras-applications-1.0.8 pbr-6.1.1 qiskit-2.0.0 rustworkx-0.16.0 stevedore-5.4.1 symengine-0.13.0\n",
          "output_type": "stream"
        }
      ],
      "execution_count": null
    },
    {
      "cell_type": "code",
      "source": [
        "SEED = 40\n",
        "EPOCHS = 50\n",
        "BATCH_SIZE = 50\n",
        "IMG_HEIGHT = 192\n",
        "IMG_WIDTH = 256\n",
        "\n",
        "def seed_everything(seed):\n",
        "    np.random.seed(seed)\n",
        "    os.environ['PYTHONHASHSEED'] = str(seed)\n",
        "\n",
        "seed_everything(SEED)"
      ],
      "metadata": {
        "trusted": true,
        "execution": {
          "iopub.status.busy": "2025-05-01T05:29:27.554751Z",
          "iopub.execute_input": "2025-05-01T05:29:27.555690Z",
          "iopub.status.idle": "2025-05-01T05:29:27.560354Z",
          "shell.execute_reply.started": "2025-05-01T05:29:27.555655Z",
          "shell.execute_reply": "2025-05-01T05:29:27.559368Z"
        },
        "id": "ep7VDW0JfA2m"
      },
      "outputs": [],
      "execution_count": null
    },
    {
      "cell_type": "code",
      "source": [
        "# cataract dataset\n",
        "IMG_ROOT = '/kaggle/input/cataractdataset/dataset'\n",
        "IMG_DIR = [IMG_ROOT+'/1_normal',\n",
        "           IMG_ROOT+'/2_cataract',\n",
        "           IMG_ROOT+'/2_glaucoma',\n",
        "           IMG_ROOT+'/3_retina_disease']\n",
        "\n",
        "# ocular-disease-recognition dataset\n",
        "OCU_IMG_ROOT = '/kaggle/input/ocular-disease-recognition-odir5k/ODIR-5K/ODIR-5K/Training Images/'\n",
        "ocu_df = pd.read_excel('/kaggle/input/ocular-disease-recognition-odir5k/ODIR-5K/ODIR-5K/data.xlsx')\n",
        "# ocu_df"
      ],
      "metadata": {
        "trusted": true,
        "execution": {
          "iopub.status.busy": "2025-05-01T05:29:27.737587Z",
          "iopub.execute_input": "2025-05-01T05:29:27.737837Z",
          "iopub.status.idle": "2025-05-01T05:29:28.878198Z",
          "shell.execute_reply.started": "2025-05-01T05:29:27.737816Z",
          "shell.execute_reply": "2025-05-01T05:29:28.877497Z"
        },
        "id": "XY1vJQ9wfA2n"
      },
      "outputs": [],
      "execution_count": null
    },
    {
      "cell_type": "markdown",
      "source": [
        "## Process Cataract dataset <a name=\"process1\"> </a>"
      ],
      "metadata": {
        "id": "7b9hTbm9fA2n"
      }
    },
    {
      "cell_type": "code",
      "source": [
        "# cat_df = pd.DataFrame(0,columns=['paths', 'cataract'],index=range(601))\n",
        "# filepaths = glob.glob(IMG_ROOT + '*/*/*')\n",
        "# for i, filepath in enumerate(filepaths):\n",
        "#     filepath = os.path.split(filepath)\n",
        "#     cat_df.iloc[i, 0] = filepath[0] + '/' + filepath[1]\n",
        "# #     print(filepath[0])\n",
        "#     if filepath[0] == IMG_DIR[0]:    # normal\n",
        "#         cat_df.iloc[i, 1] = 0\n",
        "#     elif filepath[0] == IMG_DIR[1]:  # cataract\n",
        "#         cat_df.iloc[i, 1] = 1\n",
        "#     elif filepath[0] == IMG_DIR[2]:  # glaucoma\n",
        "#         cat_df.iloc[i, 1] = 2\n",
        "#     elif filepath[0] == IMG_DIR[3]:  # retine_disease\n",
        "#         cat_df.iloc[i, 1] = 3\n",
        "\n",
        "# # only sample normal and cataract\n",
        "# cat_df = cat_df.query('0 <= cataract < 2')\n",
        "# cat_df.head()"
      ],
      "metadata": {
        "trusted": true,
        "execution": {
          "iopub.status.busy": "2025-05-01T05:29:28.879324Z",
          "iopub.execute_input": "2025-05-01T05:29:28.879766Z",
          "iopub.status.idle": "2025-05-01T05:29:28.883287Z",
          "shell.execute_reply.started": "2025-05-01T05:29:28.879725Z",
          "shell.execute_reply": "2025-05-01T05:29:28.882494Z"
        },
        "id": "vE1dO_eFfA2p"
      },
      "outputs": [],
      "execution_count": null
    },
    {
      "cell_type": "code",
      "source": [
        "# Initialize the DataFrame with the correct dtype for 'paths'\n",
        "cat_df = pd.DataFrame(columns=['paths', 'cataract'], index=range(601), dtype=object)\n",
        "\n",
        "filepaths = glob.glob(IMG_ROOT + '*/*/*')\n",
        "\n",
        "for i, filepath in enumerate(filepaths):\n",
        "    # Split the filepath into directory and filename using os.path.split\n",
        "    directory, filename = os.path.split(filepath)\n",
        "\n",
        "    # Construct and assign the full file path to the 'paths' column\n",
        "    full_path = os.path.join(directory, filename)\n",
        "    cat_df.loc[i, 'paths'] = full_path\n",
        "\n",
        "    # Assign the cataract label based on directory name\n",
        "    if directory == IMG_DIR[0]:\n",
        "        cat_df.loc[i, 'cataract'] = 0\n",
        "    elif directory == IMG_DIR[1]:\n",
        "        cat_df.loc[i, 'cataract'] = 1\n",
        "    elif directory == IMG_DIR[2]:\n",
        "        cat_df.loc[i, 'cataract'] = 2\n",
        "    elif directory == IMG_DIR[3]:\n",
        "        cat_df.loc[i, 'cataract'] = 3\n",
        "\n",
        "# Filter the DataFrame to include only normal and cataract images\n",
        "cat_df = cat_df.query('0 <= cataract < 2')\n",
        "cat_df.head()"
      ],
      "metadata": {
        "trusted": true,
        "execution": {
          "iopub.status.busy": "2025-05-01T05:29:29.829317Z",
          "iopub.execute_input": "2025-05-01T05:29:29.829666Z",
          "iopub.status.idle": "2025-05-01T05:29:29.966219Z",
          "shell.execute_reply.started": "2025-05-01T05:29:29.829639Z",
          "shell.execute_reply": "2025-05-01T05:29:29.965491Z"
        },
        "id": "rwRWN2e_fA2p",
        "outputId": "de8a7b7b-5198-4244-cd60-135de305c667"
      },
      "outputs": [
        {
          "execution_count": 7,
          "output_type": "execute_result",
          "data": {
            "text/plain": "                                                 paths cataract\n100  /kaggle/input/cataractdataset/dataset/2_catara...        1\n101  /kaggle/input/cataractdataset/dataset/2_catara...        1\n102  /kaggle/input/cataractdataset/dataset/2_catara...        1\n103  /kaggle/input/cataractdataset/dataset/2_catara...        1\n104  /kaggle/input/cataractdataset/dataset/2_catara...        1",
            "text/html": "<div>\n<style scoped>\n    .dataframe tbody tr th:only-of-type {\n        vertical-align: middle;\n    }\n\n    .dataframe tbody tr th {\n        vertical-align: top;\n    }\n\n    .dataframe thead th {\n        text-align: right;\n    }\n</style>\n<table border=\"1\" class=\"dataframe\">\n  <thead>\n    <tr style=\"text-align: right;\">\n      <th></th>\n      <th>paths</th>\n      <th>cataract</th>\n    </tr>\n  </thead>\n  <tbody>\n    <tr>\n      <th>100</th>\n      <td>/kaggle/input/cataractdataset/dataset/2_catara...</td>\n      <td>1</td>\n    </tr>\n    <tr>\n      <th>101</th>\n      <td>/kaggle/input/cataractdataset/dataset/2_catara...</td>\n      <td>1</td>\n    </tr>\n    <tr>\n      <th>102</th>\n      <td>/kaggle/input/cataractdataset/dataset/2_catara...</td>\n      <td>1</td>\n    </tr>\n    <tr>\n      <th>103</th>\n      <td>/kaggle/input/cataractdataset/dataset/2_catara...</td>\n      <td>1</td>\n    </tr>\n    <tr>\n      <th>104</th>\n      <td>/kaggle/input/cataractdataset/dataset/2_catara...</td>\n      <td>1</td>\n    </tr>\n  </tbody>\n</table>\n</div>"
          },
          "metadata": {}
        }
      ],
      "execution_count": null
    },
    {
      "cell_type": "code",
      "source": [
        "import seaborn as sns\n",
        "import matplotlib.pyplot as plt\n",
        "\n",
        "print('Number of normal and cataract images')\n",
        "print(cat_df['cataract'].value_counts())\n",
        "\n",
        "# Countplot\n",
        "plt.figure(figsize=(8, 6))\n",
        "sns.countplot(x='cataract', data=cat_df)\n",
        "plt.title('Number of Normal and Cataract Images')\n",
        "plt.xlabel('Cataract Status')\n",
        "plt.ylabel('Count')\n",
        "plt.show()"
      ],
      "metadata": {
        "trusted": true,
        "execution": {
          "iopub.status.busy": "2025-05-01T05:29:31.329978Z",
          "iopub.execute_input": "2025-05-01T05:29:31.330291Z",
          "iopub.status.idle": "2025-05-01T05:29:32.141582Z",
          "shell.execute_reply.started": "2025-05-01T05:29:31.330264Z",
          "shell.execute_reply": "2025-05-01T05:29:32.140689Z"
        },
        "id": "9m_7llfIfA2q",
        "outputId": "5a6e5978-3d00-4ebe-d6d2-4a12a676d879"
      },
      "outputs": [
        {
          "name": "stdout",
          "text": "Number of normal and cataract images\ncataract\n0    300\n1    100\nName: count, dtype: int64\n",
          "output_type": "stream"
        },
        {
          "output_type": "display_data",
          "data": {
            "text/plain": "<Figure size 800x600 with 1 Axes>",
            "image/png": "[encoded data removed]"
          },
          "metadata": {}
        }
      ],
      "execution_count": null
    },
    {
      "cell_type": "code",
      "source": [
        "def has_cataract_mentioned(text):\n",
        "    if 'cataract' in text:\n",
        "        return 1\n",
        "    else:\n",
        "        return 0\n",
        "\n",
        "ocu_df['left_eye_cataract'] = ocu_df['Left-Diagnostic Keywords'].apply(lambda x: has_cataract_mentioned(x))\n",
        "ocu_df['right_eye_cataract'] = ocu_df['Right-Diagnostic Keywords'].apply(lambda x: has_cataract_mentioned(x))\n",
        "\n",
        "ocu_df.head()"
      ],
      "metadata": {
        "trusted": true,
        "execution": {
          "iopub.status.busy": "2025-05-01T05:29:32.142593Z",
          "iopub.execute_input": "2025-05-01T05:29:32.143089Z",
          "iopub.status.idle": "2025-05-01T05:29:32.161071Z",
          "shell.execute_reply.started": "2025-05-01T05:29:32.143066Z",
          "shell.execute_reply": "2025-05-01T05:29:32.160189Z"
        },
        "id": "Ln-r0zzDfA2q",
        "outputId": "801f7d64-9ddd-48f7-8149-e5eb2575ae3f"
      },
      "outputs": [
        {
          "execution_count": 9,
          "output_type": "execute_result",
          "data": {
            "text/plain": "   ID  Patient Age Patient Sex Left-Fundus Right-Fundus  \\\n0   0           69      Female  0_left.jpg  0_right.jpg   \n1   1           57        Male  1_left.jpg  1_right.jpg   \n2   2           42        Male  2_left.jpg  2_right.jpg   \n3   3           66        Male  3_left.jpg  3_right.jpg   \n4   4           53        Male  4_left.jpg  4_right.jpg   \n\n                            Left-Diagnostic Keywords  \\\n0                                           cataract   \n1                                      normal fundus   \n2  laser spot，moderate non proliferative retinopathy   \n3                                      normal fundus   \n4                        macular epiretinal membrane   \n\n                Right-Diagnostic Keywords  N  D  G  C  A  H  M  O  \\\n0                           normal fundus  0  0  0  1  0  0  0  0   \n1                           normal fundus  1  0  0  0  0  0  0  0   \n2  moderate non proliferative retinopathy  0  1  0  0  0  0  0  1   \n3         branch retinal artery occlusion  0  0  0  0  0  0  0  1   \n4       mild nonproliferative retinopathy  0  1  0  0  0  0  0  1   \n\n   left_eye_cataract  right_eye_cataract  \n0                  1                   0  \n1                  0                   0  \n2                  0                   0  \n3                  0                   0  \n4                  0                   0  ",
            "text/html": "<div>\n<style scoped>\n    .dataframe tbody tr th:only-of-type {\n        vertical-align: middle;\n    }\n\n    .dataframe tbody tr th {\n        vertical-align: top;\n    }\n\n    .dataframe thead th {\n        text-align: right;\n    }\n</style>\n<table border=\"1\" class=\"dataframe\">\n  <thead>\n    <tr style=\"text-align: right;\">\n      <th></th>\n      <th>ID</th>\n      <th>Patient Age</th>\n      <th>Patient Sex</th>\n      <th>Left-Fundus</th>\n      <th>Right-Fundus</th>\n      <th>Left-Diagnostic Keywords</th>\n      <th>Right-Diagnostic Keywords</th>\n      <th>N</th>\n      <th>D</th>\n      <th>G</th>\n      <th>C</th>\n      <th>A</th>\n      <th>H</th>\n      <th>M</th>\n      <th>O</th>\n      <th>left_eye_cataract</th>\n      <th>right_eye_cataract</th>\n    </tr>\n  </thead>\n  <tbody>\n    <tr>\n      <th>0</th>\n      <td>0</td>\n      <td>69</td>\n      <td>Female</td>\n      <td>0_left.jpg</td>\n      <td>0_right.jpg</td>\n      <td>cataract</td>\n      <td>normal fundus</td>\n      <td>0</td>\n      <td>0</td>\n      <td>0</td>\n      <td>1</td>\n      <td>0</td>\n      <td>0</td>\n      <td>0</td>\n      <td>0</td>\n      <td>1</td>\n      <td>0</td>\n    </tr>\n    <tr>\n      <th>1</th>\n      <td>1</td>\n      <td>57</td>\n      <td>Male</td>\n      <td>1_left.jpg</td>\n      <td>1_right.jpg</td>\n      <td>normal fundus</td>\n      <td>normal fundus</td>\n      <td>1</td>\n      <td>0</td>\n      <td>0</td>\n      <td>0</td>\n      <td>0</td>\n      <td>0</td>\n      <td>0</td>\n      <td>0</td>\n      <td>0</td>\n      <td>0</td>\n    </tr>\n    <tr>\n      <th>2</th>\n      <td>2</td>\n      <td>42</td>\n      <td>Male</td>\n      <td>2_left.jpg</td>\n      <td>2_right.jpg</td>\n      <td>laser spot，moderate non proliferative retinopathy</td>\n      <td>moderate non proliferative retinopathy</td>\n      <td>0</td>\n      <td>1</td>\n      <td>0</td>\n      <td>0</td>\n      <td>0</td>\n      <td>0</td>\n      <td>0</td>\n      <td>1</td>\n      <td>0</td>\n      <td>0</td>\n    </tr>\n    <tr>\n      <th>3</th>\n      <td>3</td>\n      <td>66</td>\n      <td>Male</td>\n      <td>3_left.jpg</td>\n      <td>3_right.jpg</td>\n      <td>normal fundus</td>\n      <td>branch retinal artery occlusion</td>\n      <td>0</td>\n      <td>0</td>\n      <td>0</td>\n      <td>0</td>\n      <td>0</td>\n      <td>0</td>\n      <td>0</td>\n      <td>1</td>\n      <td>0</td>\n      <td>0</td>\n    </tr>\n    <tr>\n      <th>4</th>\n      <td>4</td>\n      <td>53</td>\n      <td>Male</td>\n      <td>4_left.jpg</td>\n      <td>4_right.jpg</td>\n      <td>macular epiretinal membrane</td>\n      <td>mild nonproliferative retinopathy</td>\n      <td>0</td>\n      <td>1</td>\n      <td>0</td>\n      <td>0</td>\n      <td>0</td>\n      <td>0</td>\n      <td>0</td>\n      <td>1</td>\n      <td>0</td>\n      <td>0</td>\n    </tr>\n  </tbody>\n</table>\n</div>"
          },
          "metadata": {}
        }
      ],
      "execution_count": null
    },
    {
      "cell_type": "code",
      "source": [
        "le_df = ocu_df.loc[:, ['Left-Fundus', 'left_eye_cataract']].rename(columns={'left_eye_cataract':'cataract'})\n",
        "\n",
        "le_df['paths'] = OCU_IMG_ROOT + le_df['Left-Fundus']\n",
        "le_df = le_df.drop('Left-Fundus', axis=1)\n",
        "\n",
        "re_df = ocu_df.loc[:, ['Right-Fundus', 'right_eye_cataract']].rename(columns={'right_eye_cataract':'cataract'})\n",
        "re_df['paths'] = OCU_IMG_ROOT + re_df['Right-Fundus']\n",
        "re_df = re_df.drop('Right-Fundus', axis=1)\n",
        "\n",
        "\n",
        "print('Number of left eye images')\n",
        "print(le_df['cataract'].value_counts())\n",
        "print('\\nNumber of right eye images')\n",
        "print(re_df['cataract'].value_counts())"
      ],
      "metadata": {
        "trusted": true,
        "execution": {
          "iopub.status.busy": "2025-05-01T05:29:32.674150Z",
          "iopub.execute_input": "2025-05-01T05:29:32.674521Z",
          "iopub.status.idle": "2025-05-01T05:29:32.694329Z",
          "shell.execute_reply.started": "2025-05-01T05:29:32.674489Z",
          "shell.execute_reply": "2025-05-01T05:29:32.693491Z"
        },
        "id": "GunnJvngfA2r",
        "outputId": "97bb8d66-493a-4d36-ceb6-505fce31e133"
      },
      "outputs": [
        {
          "name": "stdout",
          "text": "Number of left eye images\ncataract\n0    3341\n1     159\nName: count, dtype: int64\n\nNumber of right eye images\ncataract\n0    3346\n1     154\nName: count, dtype: int64\n",
          "output_type": "stream"
        }
      ],
      "execution_count": null
    },
    {
      "cell_type": "code",
      "source": [
        "# Countplot\n",
        "fig, ax = plt.subplots(1, 2, figsize=(12, 6))\n",
        "sns.countplot(x='cataract', data=le_df, ax=ax[0])\n",
        "ax[0].set_title('Left Eye Images')\n",
        "ax[0].set_xlabel('Cataract Status')\n",
        "ax[0].set_ylabel('Count')\n",
        "\n",
        "sns.countplot(x='cataract', data=re_df, ax=ax[1])\n",
        "ax[1].set_title('Right Eye Images')\n",
        "ax[1].set_xlabel('Cataract Status')\n",
        "ax[1].set_ylabel('Count')\n",
        "\n",
        "plt.tight_layout()\n",
        "plt.show()"
      ],
      "metadata": {
        "trusted": true,
        "execution": {
          "iopub.status.busy": "2025-05-01T05:29:33.717213Z",
          "iopub.execute_input": "2025-05-01T05:29:33.717560Z",
          "iopub.status.idle": "2025-05-01T05:29:34.027830Z",
          "shell.execute_reply.started": "2025-05-01T05:29:33.717531Z",
          "shell.execute_reply": "2025-05-01T05:29:34.026974Z"
        },
        "id": "bf3W3XTZfA2r",
        "outputId": "30477708-3a1d-439f-cd8c-98f9489f9ce5"
      },
      "outputs": [
        {
          "output_type": "display_data",
          "data": {
            "text/plain": "<Figure size 1200x600 with 2 Axes>",
            "image/png": "[encoded data removed]"
          },
          "metadata": {}
        }
      ],
      "execution_count": null
    },
    {
      "cell_type": "code",
      "source": [
        "# def downsample(df):\n",
        "#     df = pd.concat([\n",
        "#         df.query('cataract==1'),\n",
        "#         df.query('cataract==0').sample(sum(df['cataract']),random_state=SEED)\n",
        "#     ])\n",
        "#     return df\n",
        "\n",
        "\n",
        "# le_df = downsample(le_df)\n",
        "# re_df = downsample(re_df)\n",
        "\n",
        "# print('Number of left eye images')\n",
        "# print(le_df['cataract'].value_counts())\n",
        "# print('\\nNumber of right eye images')\n",
        "# print(re_df['cataract'].value_counts())"
      ],
      "metadata": {
        "trusted": true,
        "execution": {
          "iopub.status.busy": "2025-05-01T05:29:34.125439Z",
          "iopub.execute_input": "2025-05-01T05:29:34.125756Z",
          "iopub.status.idle": "2025-05-01T05:29:34.129217Z",
          "shell.execute_reply.started": "2025-05-01T05:29:34.125725Z",
          "shell.execute_reply": "2025-05-01T05:29:34.128223Z"
        },
        "id": "ztesa_KmfA2s"
      },
      "outputs": [],
      "execution_count": null
    },
    {
      "cell_type": "code",
      "source": [
        "ocu_df = pd.concat([le_df, re_df])\n",
        "\n",
        "df = pd.concat([cat_df, ocu_df], ignore_index=True)\n",
        "df"
      ],
      "metadata": {
        "trusted": true,
        "execution": {
          "iopub.status.busy": "2025-05-01T05:29:34.729574Z",
          "iopub.execute_input": "2025-05-01T05:29:34.729879Z",
          "iopub.status.idle": "2025-05-01T05:29:34.741067Z",
          "shell.execute_reply.started": "2025-05-01T05:29:34.729854Z",
          "shell.execute_reply": "2025-05-01T05:29:34.740228Z"
        },
        "id": "y4YCRcPdfA2s",
        "outputId": "6dd56754-0cae-4012-a05e-ccaf18dd57e2"
      },
      "outputs": [
        {
          "execution_count": 13,
          "output_type": "execute_result",
          "data": {
            "text/plain": "                                                  paths cataract\n0     /kaggle/input/cataractdataset/dataset/2_catara...        1\n1     /kaggle/input/cataractdataset/dataset/2_catara...        1\n2     /kaggle/input/cataractdataset/dataset/2_catara...        1\n3     /kaggle/input/cataractdataset/dataset/2_catara...        1\n4     /kaggle/input/cataractdataset/dataset/2_catara...        1\n...                                                 ...      ...\n7395  /kaggle/input/ocular-disease-recognition-odir5...        0\n7396  /kaggle/input/ocular-disease-recognition-odir5...        0\n7397  /kaggle/input/ocular-disease-recognition-odir5...        0\n7398  /kaggle/input/ocular-disease-recognition-odir5...        0\n7399  /kaggle/input/ocular-disease-recognition-odir5...        0\n\n[7400 rows x 2 columns]",
            "text/html": "<div>\n<style scoped>\n    .dataframe tbody tr th:only-of-type {\n        vertical-align: middle;\n    }\n\n    .dataframe tbody tr th {\n        vertical-align: top;\n    }\n\n    .dataframe thead th {\n        text-align: right;\n    }\n</style>\n<table border=\"1\" class=\"dataframe\">\n  <thead>\n    <tr style=\"text-align: right;\">\n      <th></th>\n      <th>paths</th>\n      <th>cataract</th>\n    </tr>\n  </thead>\n  <tbody>\n    <tr>\n      <th>0</th>\n      <td>/kaggle/input/cataractdataset/dataset/2_catara...</td>\n      <td>1</td>\n    </tr>\n    <tr>\n      <th>1</th>\n      <td>/kaggle/input/cataractdataset/dataset/2_catara...</td>\n      <td>1</td>\n    </tr>\n    <tr>\n      <th>2</th>\n      <td>/kaggle/input/cataractdataset/dataset/2_catara...</td>\n      <td>1</td>\n    </tr>\n    <tr>\n      <th>3</th>\n      <td>/kaggle/input/cataractdataset/dataset/2_catara...</td>\n      <td>1</td>\n    </tr>\n    <tr>\n      <th>4</th>\n      <td>/kaggle/input/cataractdataset/dataset/2_catara...</td>\n      <td>1</td>\n    </tr>\n    <tr>\n      <th>...</th>\n      <td>...</td>\n      <td>...</td>\n    </tr>\n    <tr>\n      <th>7395</th>\n      <td>/kaggle/input/ocular-disease-recognition-odir5...</td>\n      <td>0</td>\n    </tr>\n    <tr>\n      <th>7396</th>\n      <td>/kaggle/input/ocular-disease-recognition-odir5...</td>\n      <td>0</td>\n    </tr>\n    <tr>\n      <th>7397</th>\n      <td>/kaggle/input/ocular-disease-recognition-odir5...</td>\n      <td>0</td>\n    </tr>\n    <tr>\n      <th>7398</th>\n      <td>/kaggle/input/ocular-disease-recognition-odir5...</td>\n      <td>0</td>\n    </tr>\n    <tr>\n      <th>7399</th>\n      <td>/kaggle/input/ocular-disease-recognition-odir5...</td>\n      <td>0</td>\n    </tr>\n  </tbody>\n</table>\n<p>7400 rows × 2 columns</p>\n</div>"
          },
          "metadata": {}
        }
      ],
      "execution_count": null
    },
    {
      "cell_type": "code",
      "source": [],
      "metadata": {
        "trusted": true,
        "id": "DBtV4Fc9fA2s"
      },
      "outputs": [],
      "execution_count": null
    },
    {
      "cell_type": "code",
      "source": [],
      "metadata": {
        "trusted": true,
        "id": "nuwEepq9fA2s"
      },
      "outputs": [],
      "execution_count": null
    },
    {
      "cell_type": "code",
      "source": [],
      "metadata": {
        "trusted": true,
        "id": "tIWs_aQBfA2s"
      },
      "outputs": [],
      "execution_count": null
    },
    {
      "cell_type": "code",
      "source": [
        "print(len(df[df['cataract']==1]))\n",
        "print(len(df[df['cataract']==0]))"
      ],
      "metadata": {
        "trusted": true,
        "execution": {
          "iopub.status.busy": "2025-05-01T05:29:36.628978Z",
          "iopub.execute_input": "2025-05-01T05:29:36.629263Z",
          "iopub.status.idle": "2025-05-01T05:29:36.637495Z",
          "shell.execute_reply.started": "2025-05-01T05:29:36.629240Z",
          "shell.execute_reply": "2025-05-01T05:29:36.636691Z"
        },
        "id": "fH9SB4CffA2s",
        "outputId": "ab3a3642-a64c-4a01-aa73-b101527c98eb"
      },
      "outputs": [
        {
          "name": "stdout",
          "text": "413\n6987\n",
          "output_type": "stream"
        }
      ],
      "execution_count": null
    },
    {
      "cell_type": "code",
      "source": [
        "!pip install --upgrade qiskit-aer\n",
        "from qiskit import QuantumCircuit, QuantumRegister, ClassicalRegister\n",
        "from qiskit_aer import Aer\n",
        "from qiskit_aer import AerSimulator  # Import the AerSimulator directly"
      ],
      "metadata": {
        "trusted": true,
        "execution": {
          "iopub.status.busy": "2025-05-01T05:29:38.544127Z",
          "iopub.execute_input": "2025-05-01T05:29:38.544464Z",
          "iopub.status.idle": "2025-05-01T05:29:43.231451Z",
          "shell.execute_reply.started": "2025-05-01T05:29:38.544432Z",
          "shell.execute_reply": "2025-05-01T05:29:43.230686Z"
        },
        "id": "kAtPCqT0fA2t",
        "outputId": "87570383-16dd-4df3-9650-8395bf86ea89"
      },
      "outputs": [
        {
          "name": "stdout",
          "text": "Collecting qiskit-aer\n  Downloading qiskit_aer-0.17.0-cp310-cp310-manylinux_2_17_x86_64.manylinux2014_x86_64.whl.metadata (8.2 kB)\nRequirement already satisfied: qiskit>=1.1.0 in /usr/local/lib/python3.10/dist-packages (from qiskit-aer) (2.0.0)\nRequirement already satisfied: numpy>=1.16.3 in /usr/local/lib/python3.10/dist-packages (from qiskit-aer) (1.26.4)\nRequirement already satisfied: scipy>=1.0 in /usr/local/lib/python3.10/dist-packages (from qiskit-aer) (1.13.1)\nRequirement already satisfied: psutil>=5 in /usr/local/lib/python3.10/dist-packages (from qiskit-aer) (5.9.5)\nRequirement already satisfied: mkl_fft in /usr/local/lib/python3.10/dist-packages (from numpy>=1.16.3->qiskit-aer) (1.3.8)\nRequirement already satisfied: mkl_random in /usr/local/lib/python3.10/dist-packages (from numpy>=1.16.3->qiskit-aer) (1.2.4)\nRequirement already satisfied: mkl_umath in /usr/local/lib/python3.10/dist-packages (from numpy>=1.16.3->qiskit-aer) (0.1.1)\nRequirement already satisfied: mkl in /usr/local/lib/python3.10/dist-packages (from numpy>=1.16.3->qiskit-aer) (2025.0.1)\nRequirement already satisfied: tbb4py in /usr/local/lib/python3.10/dist-packages (from numpy>=1.16.3->qiskit-aer) (2022.0.0)\nRequirement already satisfied: mkl-service in /usr/local/lib/python3.10/dist-packages (from numpy>=1.16.3->qiskit-aer) (2.4.1)\nRequirement already satisfied: rustworkx>=0.15.0 in /usr/local/lib/python3.10/dist-packages (from qiskit>=1.1.0->qiskit-aer) (0.16.0)\nRequirement already satisfied: sympy>=1.3 in /usr/local/lib/python3.10/dist-packages (from qiskit>=1.1.0->qiskit-aer) (1.13.1)\nRequirement already satisfied: dill>=0.3 in /usr/local/lib/python3.10/dist-packages (from qiskit>=1.1.0->qiskit-aer) (0.3.8)\nRequirement already satisfied: python-dateutil>=2.8.0 in /usr/local/lib/python3.10/dist-packages (from qiskit>=1.1.0->qiskit-aer) (2.9.0.post0)\nRequirement already satisfied: stevedore>=3.0.0 in /usr/local/lib/python3.10/dist-packages (from qiskit>=1.1.0->qiskit-aer) (5.4.1)\nRequirement already satisfied: typing-extensions in /usr/local/lib/python3.10/dist-packages (from qiskit>=1.1.0->qiskit-aer) (4.12.2)\nRequirement already satisfied: symengine<0.14,>=0.11 in /usr/local/lib/python3.10/dist-packages (from qiskit>=1.1.0->qiskit-aer) (0.13.0)\nRequirement already satisfied: six>=1.5 in /usr/local/lib/python3.10/dist-packages (from python-dateutil>=2.8.0->qiskit>=1.1.0->qiskit-aer) (1.17.0)\nRequirement already satisfied: pbr>=2.0.0 in /usr/local/lib/python3.10/dist-packages (from stevedore>=3.0.0->qiskit>=1.1.0->qiskit-aer) (6.1.1)\nRequirement already satisfied: mpmath<1.4,>=1.1.0 in /usr/local/lib/python3.10/dist-packages (from sympy>=1.3->qiskit>=1.1.0->qiskit-aer) (1.3.0)\nRequirement already satisfied: intel-openmp>=2024 in /usr/local/lib/python3.10/dist-packages (from mkl->numpy>=1.16.3->qiskit-aer) (2024.2.0)\nRequirement already satisfied: tbb==2022.* in /usr/local/lib/python3.10/dist-packages (from mkl->numpy>=1.16.3->qiskit-aer) (2022.0.0)\nRequirement already satisfied: tcmlib==1.* in /usr/local/lib/python3.10/dist-packages (from tbb==2022.*->mkl->numpy>=1.16.3->qiskit-aer) (1.2.0)\nRequirement already satisfied: intel-cmplr-lib-rt in /usr/local/lib/python3.10/dist-packages (from mkl_umath->numpy>=1.16.3->qiskit-aer) (2024.2.0)\nRequirement already satisfied: intel-cmplr-lib-ur==2024.2.0 in /usr/local/lib/python3.10/dist-packages (from intel-openmp>=2024->mkl->numpy>=1.16.3->qiskit-aer) (2024.2.0)\nRequirement already satisfied: setuptools in /usr/local/lib/python3.10/dist-packages (from pbr>=2.0.0->stevedore>=3.0.0->qiskit>=1.1.0->qiskit-aer) (75.1.0)\nDownloading qiskit_aer-0.17.0-cp310-cp310-manylinux_2_17_x86_64.manylinux2014_x86_64.whl (12.3 MB)\n\u001b[2K   \u001b[90m━━━━━━━━━━━━━━━━━━━━━━━━━━━━━━━━━━━━━━━━\u001b[0m \u001b[32m12.3/12.3 MB\u001b[0m \u001b[31m95.3 MB/s\u001b[0m eta \u001b[36m0:00:00\u001b[0m:00:01\u001b[0m0:01\u001b[0m\n\u001b[?25hInstalling collected packages: qiskit-aer\nSuccessfully installed qiskit-aer-0.17.0\n",
          "output_type": "stream"
        }
      ],
      "execution_count": null
    },
    {
      "cell_type": "markdown",
      "source": [
        "# QFT"
      ],
      "metadata": {
        "id": "ev3zmzk6fA2t"
      }
    },
    {
      "cell_type": "code",
      "source": [
        "def preprocess_image(image_path):\n",
        "    image = tf.io.read_file(image_path)\n",
        "    image = tf.image.decode_jpeg(image, channels=3)\n",
        "    image = tf.image.resize(image, [128, 128])\n",
        "    image = image / 255.0\n",
        "    return image\n",
        "\n",
        "def quantum_filter_transformation(image_segment):\n",
        "    qr = QuantumRegister(2)\n",
        "    cr = ClassicalRegister(2)\n",
        "    qc = QuantumCircuit(qr, cr)\n",
        "\n",
        "    # Encoding\n",
        "    qc.rx(float(np.pi * image_segment[0, 0, 0]), qr[0])\n",
        "    qc.rx(float(np.pi * image_segment[0, 1, 0]), qr[1])\n",
        "\n",
        "    # Random quantum circuit\n",
        "    qc.h(qr)\n",
        "    qc.cx(qr[0], qr[1])\n",
        "\n",
        "    # Measurement\n",
        "    qc.measure(qr, cr)\n",
        "\n",
        "    # Execute the circuit\n",
        "    simulator = AerSimulator()\n",
        "    job = simulator.run(qc, shots=1000)\n",
        "    result = job.result().get_counts()\n",
        "\n",
        "    # Decode the result\n",
        "    expectation_values = [result.get('00', 0), result.get('01', 0), result.get('10', 0), result.get('11', 0)]\n",
        "    return np.array(expectation_values) / 1000\n",
        "\n",
        "\n",
        "\n",
        "def apply_qft(image):\n",
        "    h, w, _ = image.shape\n",
        "    output = np.zeros((h//2, w//2, 4))\n",
        "    for i in range(0, h, 2):\n",
        "        for j in range(0, w, 2):\n",
        "            segment = image[i:i+2, j:j+2]\n",
        "            output[i//2, j//2] = quantum_filter_transformation(segment)\n",
        "    return output\n",
        "\n",
        "# Main preprocessing pipeline\n",
        "def preprocess_dataset(df):\n",
        "    X = []\n",
        "    y = df['cataract'].values\n",
        "\n",
        "    for path in tqdm(df['paths'], desc=\"Preprocessing Images\"):\n",
        "        image = preprocess_image(path)\n",
        "        if isinstance(image, tf.Tensor):\n",
        "            image = image.numpy()  # Convert TensorFlow tensor to numpy array\n",
        "        qft_image = apply_qft(image)\n",
        "        X.append(qft_image)\n",
        "\n",
        "    X = np.array(X)\n",
        "    return X, y"
      ],
      "metadata": {
        "trusted": true,
        "execution": {
          "iopub.status.busy": "2025-05-01T05:29:45.785074Z",
          "iopub.execute_input": "2025-05-01T05:29:45.785665Z",
          "iopub.status.idle": "2025-05-01T05:29:45.794388Z",
          "shell.execute_reply.started": "2025-05-01T05:29:45.785634Z",
          "shell.execute_reply": "2025-05-01T05:29:45.793718Z"
        },
        "id": "GWtuqId8fA2t"
      },
      "outputs": [],
      "execution_count": null
    },
    {
      "cell_type": "code",
      "source": [
        "import tensorflow as tf\n",
        "\n",
        "gpus = tf.config.list_physical_devices('GPU')\n",
        "if gpus:\n",
        "    for gpu in gpus:\n",
        "        try:\n",
        "            tf.config.experimental.set_memory_growth(gpu, True)\n",
        "        except RuntimeError:\n",
        "            # Memory growth must be set before GPUs have been initialized\n",
        "            pass\n",
        "    strategy = tf.distribute.MirroredStrategy()\n",
        "    print(f\"Found {len(gpus)} GPUs → using MirroredStrategy with {strategy.num_replicas_in_sync} replicas\")\n",
        "else:\n",
        "    strategy = tf.distribute.get_strategy()\n",
        "    print(\"No GPU found → using default (CPU) strategy\")\n"
      ],
      "metadata": {
        "trusted": true,
        "execution": {
          "iopub.status.busy": "2025-05-01T05:32:03.336299Z",
          "iopub.execute_input": "2025-05-01T05:32:03.336738Z",
          "iopub.status.idle": "2025-05-01T05:32:03.344996Z",
          "shell.execute_reply.started": "2025-05-01T05:32:03.336694Z",
          "shell.execute_reply": "2025-05-01T05:32:03.344150Z"
        },
        "id": "_HLQ3YDCfA2u",
        "outputId": "64fdb182-8637-452e-f66b-7805df67a44a"
      },
      "outputs": [
        {
          "name": "stdout",
          "text": "Found 2 GPUs → using MirroredStrategy with 2 replicas\n",
          "output_type": "stream"
        }
      ],
      "execution_count": null
    },
    {
      "cell_type": "code",
      "source": [
        "# Separate the two classes\n",
        "cataract_df = df[df['cataract'] == 1]\n",
        "non_cataract_df = df[df['cataract'] == 0]\n",
        "\n",
        "# Count the number of cataract images\n",
        "num_cataract = len(cataract_df)  # Should be 413\n",
        "\n",
        "# Calculate the desired total dataset size so that 30% are cataract images\n",
        "desired_total = int(num_cataract / 0.3)  # Approximately 1377 images\n",
        "# Calculate the number of non-cataract images needed\n",
        "desired_non_cataract = desired_total - num_cataract -500 # Approximately 964 images\n",
        "\n",
        "# Randomly sample the required number of non-cataract images\n",
        "non_cataract_sample = non_cataract_df.sample(n=desired_non_cataract, random_state=42)\n",
        "\n",
        "# Combine the cataract images with the sampled non-cataract images\n",
        "new_df = pd.concat([cataract_df, non_cataract_sample])\n",
        "\n",
        "# Shuffle the new dataset\n",
        "new_df = new_df.sample(frac=1).reset_index(drop=True)\n",
        "\n",
        "# Check the distribution\n",
        "print(new_df['cataract'].value_counts())"
      ],
      "metadata": {
        "trusted": true,
        "execution": {
          "iopub.status.busy": "2025-05-01T05:32:06.295946Z",
          "iopub.execute_input": "2025-05-01T05:32:06.296272Z",
          "iopub.status.idle": "2025-05-01T05:32:06.308915Z",
          "shell.execute_reply.started": "2025-05-01T05:32:06.296245Z",
          "shell.execute_reply": "2025-05-01T05:32:06.308132Z"
        },
        "id": "Phyj1aYcfA2v",
        "outputId": "11257515-eaa5-4929-a75d-56841b1c00da"
      },
      "outputs": [
        {
          "name": "stdout",
          "text": "cataract\n0    463\n1    413\nName: count, dtype: int64\n",
          "output_type": "stream"
        }
      ],
      "execution_count": null
    },
    {
      "cell_type": "code",
      "source": [
        "# X, y = preprocess_dataset(new_df)"
      ],
      "metadata": {
        "trusted": true,
        "execution": {
          "iopub.status.busy": "2025-05-01T05:33:49.242507Z",
          "iopub.execute_input": "2025-05-01T05:33:49.242829Z",
          "iopub.status.idle": "2025-05-01T05:33:49.246434Z",
          "shell.execute_reply.started": "2025-05-01T05:33:49.242802Z",
          "shell.execute_reply": "2025-05-01T05:33:49.245430Z"
        },
        "id": "syu6j4F5fA2v"
      },
      "outputs": [],
      "execution_count": null
    },
    {
      "cell_type": "code",
      "source": [
        "## import kerastuner as kt\n",
        "from tensorflow import keras\n",
        "import numpy as np\n",
        "\n",
        "# 1) Define a HyperModel for your QCNN\n",
        "class QCNNHyperModel(kt.HyperModel):\n",
        "    def __init__(self, input_shape, num_classes=2):\n",
        "        self.input_shape = input_shape\n",
        "        self.num_classes = num_classes\n",
        "\n",
        "    def build(self, hp):\n",
        "        inputs = keras.Input(self.input_shape)\n",
        "\n",
        "        # Classical conv block\n",
        "        x = inputs\n",
        "        for i in range(hp.Int(\"conv_blocks\", 1, 3)):\n",
        "            filters = hp.Int(f\"filters_block{i}\", 16, 128, step=16)\n",
        "            x = keras.layers.Conv2D(filters, 3, activation=\"relu\", padding=\"same\")(x)\n",
        "            x = keras.layers.MaxPool2D()(x)\n",
        "\n",
        "        # Flatten before quantum\n",
        "        x = keras.layers.Flatten()(x)\n",
        "\n",
        "        # Optional dense before quantum\n",
        "        x = keras.layers.Dense(hp.Int(\"dense_pre_qc\", 32, 256, step=32),\n",
        "                               activation=\"relu\")(x)\n",
        "\n",
        "        # ---- Your quantum feature transform layer ----\n",
        "        # here we wrap apply_qft as a Lambda so it can be tuned too\n",
        "        shots = hp.Choice(\"qft_shots\", [100, 500, 1000])\n",
        "        x = keras.layers.Lambda(lambda img: apply_qft_with_shots(img, shots),\n",
        "                                name=\"qft_layer\")(x)\n",
        "        # ----------------------------------------------\n",
        "\n",
        "        # Classical head\n",
        "        x = keras.layers.Dense(hp.Int(\"dense_post_qc\", 32, 128, step=32),\n",
        "                               activation=\"relu\")(x)\n",
        "        outputs = keras.layers.Dense(self.num_classes, activation=\"softmax\")(x)\n",
        "\n",
        "        model = keras.Model(inputs, outputs)\n",
        "\n",
        "        # Compile with tunable learning rate\n",
        "        lr = hp.Float(\"learning_rate\", 1e-4, 1e-2, sampling=\"log\")\n",
        "        model.compile(\n",
        "            optimizer=keras.optimizers.Adam(lr),\n",
        "            loss=\"sparse_categorical_crossentropy\",\n",
        "            metrics=[\"accuracy\"]\n",
        "        )\n",
        "        return model\n",
        "\n",
        "# 2) Helper to wrap your existing apply_qft for tuning\n",
        "def apply_qft_with_shots(flat_inputs, shots):\n",
        "    # assume flat_inputs is a batch of flattened QFT-ready patches\n",
        "    # you’d reshape and run your quantum_filter_transformation with `shots`\n",
        "    # for simplicity here, we just call your existing apply_qft\n",
        "    # but you’d modify quantum_filter_transformation to accept `shots`\n",
        "    return apply_qft(flat_inputs)  # placeholder\n",
        "\n",
        "# 3) Prepare your data\n",
        "X, y = preprocess_dataset(new_df)    # this runs QFT with your default shot=1000\n",
        "# If you’re tuning shots, you might want to preprocess at the pixel level,\n",
        "# then let the Lambda layer run QFT during training.\n",
        "\n",
        "# 4) Set up and run the tuner\n",
        "tuner = kt.RandomSearch(\n",
        "    QCNNHyperModel(input_shape=X.shape[1:], num_classes=2),\n",
        "    objective=\"val_accuracy\",\n",
        "    max_trials=10,\n",
        "    executions_per_trial=1,\n",
        "    directory=\"qcnn_tuning\",\n",
        "    project_name=\"cataract_qcnn\"\n",
        ")\n",
        "\n",
        "tuner.search(X, y,\n",
        "             epochs=20,\n",
        "             validation_split=0.2,\n",
        "             batch_size=kt.HyperParameters().Choice(\"batch_size\", [16, 32, 64]))\n",
        "\n",
        "# 5) Retrieve and build the best model\n",
        "best_hp = tuner.get_best_hyperparameters(1)[0]\n",
        "print(\"Best config:\")\n",
        "for key in best_hp.values:\n",
        "    print(f\"  {key}: {best_hp.get(key)}\")\n",
        "\n",
        "best_model = tuner.hypermodel.build(best_hp)\n",
        "best_model.summary()\n",
        "\n",
        "# Finally, retrain or evaluate the best_model as you like"
      ],
      "metadata": {
        "execution": {
          "iopub.status.busy": "2025-05-01T05:34:30.653601Z",
          "iopub.execute_input": "2025-05-01T05:34:30.653929Z",
          "iopub.status.idle": "2025-05-01T07:23:09.811333Z",
          "shell.execute_reply.started": "2025-05-01T05:34:30.653903Z",
          "shell.execute_reply": "2025-05-01T07:23:09.810089Z"
        },
        "trusted": true,
        "id": "B66vnxVofA2x"
      },
      "outputs": [],
      "execution_count": null
    },
    {
      "cell_type": "code",
      "source": [],
      "metadata": {
        "trusted": true,
        "id": "8GeCJwA4fA2y"
      },
      "outputs": [],
      "execution_count": null
    },
    {
      "cell_type": "code",
      "source": [],
      "metadata": {
        "trusted": true,
        "id": "_1WKovJYfA2y"
      },
      "outputs": [],
      "execution_count": null
    },
    {
      "cell_type": "code",
      "source": [],
      "metadata": {
        "trusted": true,
        "id": "iSRFWfOmfA2z"
      },
      "outputs": [],
      "execution_count": null
    },
    {
      "cell_type": "code",
      "source": [
        "# Save the preprocessed data to a compressed .npz file\n",
        "np.savez('preprocessed_data.npz', X=X, y=y)\n",
        "\n",
        "print(\"Preprocessed data saved to 'preprocessed_data.npz'\")"
      ],
      "metadata": {
        "trusted": true,
        "execution": {
          "iopub.status.busy": "2025-03-23T11:17:33.135017Z",
          "iopub.execute_input": "2025-03-23T11:17:33.135276Z",
          "iopub.status.idle": "2025-03-23T11:17:33.331200Z",
          "shell.execute_reply.started": "2025-03-23T11:17:33.135255Z",
          "shell.execute_reply": "2025-03-23T11:17:33.330467Z"
        },
        "id": "kyQlB9h-fA2z",
        "outputId": "ec839fd0-d55f-4540-f18c-979700052ace"
      },
      "outputs": [
        {
          "name": "stdout",
          "text": "Preprocessed data saved to 'preprocessed_data.npz'\n",
          "output_type": "stream"
        }
      ],
      "execution_count": null
    },
    {
      "cell_type": "code",
      "source": [
        "from sklearn.model_selection import train_test_split\n",
        "X_train, X_test, y_train, y_test = train_test_split(X, y, test_size=0.2, random_state=42)\n"
      ],
      "metadata": {
        "trusted": true,
        "execution": {
          "iopub.status.busy": "2025-03-23T11:27:42.653934Z",
          "iopub.execute_input": "2025-03-23T11:27:42.654215Z",
          "iopub.status.idle": "2025-03-23T11:27:42.690168Z",
          "shell.execute_reply.started": "2025-03-23T11:27:42.654195Z",
          "shell.execute_reply": "2025-03-23T11:27:42.689525Z"
        },
        "id": "syNdxagvfA20"
      },
      "outputs": [],
      "execution_count": null
    },
    {
      "cell_type": "code",
      "source": [
        "import tensorflow as tf\n",
        "\n",
        "X_train = tf.convert_to_tensor(X_train, dtype=tf.float32)\n",
        "y_train = tf.convert_to_tensor(y_train, dtype=tf.float32)\n"
      ],
      "metadata": {
        "trusted": true,
        "execution": {
          "iopub.status.busy": "2025-03-23T11:42:58.954513Z",
          "iopub.execute_input": "2025-03-23T11:42:58.954750Z",
          "iopub.status.idle": "2025-03-23T11:42:58.958539Z",
          "shell.execute_reply.started": "2025-03-23T11:42:58.954731Z",
          "shell.execute_reply": "2025-03-23T11:42:58.957761Z"
        },
        "id": "ETr37aAxfA20"
      },
      "outputs": [],
      "execution_count": null
    },
    {
      "cell_type": "code",
      "source": [
        "import tensorflow as tf\n",
        "from tensorflow.keras import layers, models\n",
        "\n",
        "class QuCNetEnhanced(tf.keras.Model):\n",
        "    def __init__(self):\n",
        "        super(QuCNetEnhanced, self).__init__()\n",
        "        self.conv1 = layers.Conv2D(32, (3, 3), activation='relu', padding='same')\n",
        "        self.bn1 = layers.BatchNormalization()\n",
        "        self.pool1 = layers.MaxPooling2D((2, 2))\n",
        "\n",
        "        self.conv2 = layers.Conv2D(64, (3, 3), activation='relu', padding='same')\n",
        "        self.bn2 = layers.BatchNormalization()\n",
        "        self.pool2 = layers.MaxPooling2D((2, 2))\n",
        "\n",
        "        self.conv3 = layers.Conv2D(128, (3, 3), activation='relu', padding='same')\n",
        "        self.bn3 = layers.BatchNormalization()\n",
        "        self.pool3 = layers.MaxPooling2D((2, 2))\n",
        "\n",
        "        self.flatten = layers.Flatten()\n",
        "        self.dense1 = layers.Dense(128, activation='relu')\n",
        "        self.dropout = layers.Dropout(0.5)\n",
        "        self.dense2 = layers.Dense(1, activation='sigmoid')\n",
        "\n",
        "    def call(self, inputs, training=False):\n",
        "        x = self.conv1(inputs)\n",
        "        x = self.bn1(x, training=training)\n",
        "        x = self.pool1(x)\n",
        "\n",
        "        x = self.conv2(x)\n",
        "        x = self.bn2(x, training=training)\n",
        "        x = self.pool2(x)\n",
        "\n",
        "        x = self.conv3(x)\n",
        "        x = self.bn3(x, training=training)\n",
        "        x = self.pool3(x)\n",
        "\n",
        "        x = self.flatten(x)\n",
        "        x = self.dense1(x)\n",
        "        x = self.dropout(x, training=training)\n",
        "        return self.dense2(x)\n",
        "\n",
        "model = QuCNetEnhanced()\n"
      ],
      "metadata": {
        "trusted": true,
        "execution": {
          "iopub.status.busy": "2025-03-23T11:42:56.390893Z",
          "iopub.execute_input": "2025-03-23T11:42:56.391195Z",
          "iopub.status.idle": "2025-03-23T11:42:56.413162Z",
          "shell.execute_reply.started": "2025-03-23T11:42:56.391175Z",
          "shell.execute_reply": "2025-03-23T11:42:56.412467Z"
        },
        "id": "44lOLH8ofA20"
      },
      "outputs": [],
      "execution_count": null
    },
    {
      "cell_type": "code",
      "source": [
        "model.compile(optimizer='adam',\n",
        "              loss='binary_crossentropy',\n",
        "              metrics=['accuracy'])\n"
      ],
      "metadata": {
        "trusted": true,
        "execution": {
          "iopub.status.busy": "2025-03-23T11:42:58.665939Z",
          "iopub.execute_input": "2025-03-23T11:42:58.666217Z",
          "iopub.status.idle": "2025-03-23T11:42:58.673907Z",
          "shell.execute_reply.started": "2025-03-23T11:42:58.666198Z",
          "shell.execute_reply": "2025-03-23T11:42:58.673265Z"
        },
        "id": "HLCkKvqlfA21"
      },
      "outputs": [],
      "execution_count": null
    },
    {
      "cell_type": "code",
      "source": [
        "history = model.fit(X_train, y_train,\n",
        "                    epochs=50,\n",
        "                    validation_split=0.2,\n",
        "                    callbacks=[tf.keras.callbacks.EarlyStopping(patience=5),\n",
        "                               tf.keras.callbacks.ReduceLROnPlateau(factor=0.5, patience=3)])"
      ],
      "metadata": {
        "trusted": true,
        "execution": {
          "iopub.status.busy": "2025-03-23T11:43:00.921178Z",
          "iopub.execute_input": "2025-03-23T11:43:00.921510Z",
          "iopub.status.idle": "2025-03-23T11:43:10.858297Z",
          "shell.execute_reply.started": "2025-03-23T11:43:00.921485Z",
          "shell.execute_reply": "2025-03-23T11:43:10.857633Z"
        },
        "id": "HYSMtzw5fA21",
        "outputId": "99214b07-746b-4b84-8c27-8b24131eb680"
      },
      "outputs": [
        {
          "name": "stdout",
          "text": "Epoch 1/50\n\u001b[1m18/18\u001b[0m \u001b[32m━━━━━━━━━━━━━━━━━━━━\u001b[0m\u001b[37m\u001b[0m \u001b[1m9s\u001b[0m 217ms/step - accuracy: 0.4966 - loss: 4.7693 - val_accuracy: 0.5429 - val_loss: 0.9475 - learning_rate: 0.0010\nEpoch 2/50\n\u001b[1m18/18\u001b[0m \u001b[32m━━━━━━━━━━━━━━━━━━━━\u001b[0m\u001b[37m\u001b[0m \u001b[1m0s\u001b[0m 6ms/step - accuracy: 0.4897 - loss: 0.6932 - val_accuracy: 0.5429 - val_loss: 1.3310 - learning_rate: 0.0010\nEpoch 3/50\n\u001b[1m18/18\u001b[0m \u001b[32m━━━━━━━━━━━━━━━━━━━━\u001b[0m\u001b[37m\u001b[0m \u001b[1m0s\u001b[0m 6ms/step - accuracy: 0.5506 - loss: 0.6929 - val_accuracy: 0.5429 - val_loss: 1.4829 - learning_rate: 0.0010\nEpoch 4/50\n\u001b[1m18/18\u001b[0m \u001b[32m━━━━━━━━━━━━━━━━━━━━\u001b[0m\u001b[37m\u001b[0m \u001b[1m0s\u001b[0m 6ms/step - accuracy: 0.5461 - loss: 0.6927 - val_accuracy: 0.5429 - val_loss: 1.3026 - learning_rate: 0.0010\nEpoch 5/50\n\u001b[1m18/18\u001b[0m \u001b[32m━━━━━━━━━━━━━━━━━━━━\u001b[0m\u001b[37m\u001b[0m \u001b[1m0s\u001b[0m 6ms/step - accuracy: 0.5501 - loss: 0.6925 - val_accuracy: 0.5429 - val_loss: 0.8460 - learning_rate: 5.0000e-04\nEpoch 6/50\n\u001b[1m18/18\u001b[0m \u001b[32m━━━━━━━━━━━━━━━━━━━━\u001b[0m\u001b[37m\u001b[0m \u001b[1m0s\u001b[0m 6ms/step - accuracy: 0.5611 - loss: 0.6921 - val_accuracy: 0.4571 - val_loss: 0.7073 - learning_rate: 5.0000e-04\nEpoch 7/50\n\u001b[1m18/18\u001b[0m \u001b[32m━━━━━━━━━━━━━━━━━━━━\u001b[0m\u001b[37m\u001b[0m \u001b[1m0s\u001b[0m 6ms/step - accuracy: 0.5440 - loss: 0.6923 - val_accuracy: 0.4571 - val_loss: 1.2181 - learning_rate: 5.0000e-04\nEpoch 8/50\n\u001b[1m18/18\u001b[0m \u001b[32m━━━━━━━━━━━━━━━━━━━━\u001b[0m\u001b[37m\u001b[0m \u001b[1m0s\u001b[0m 6ms/step - accuracy: 0.5390 - loss: 0.6923 - val_accuracy: 0.4571 - val_loss: 2.2232 - learning_rate: 5.0000e-04\nEpoch 9/50\n\u001b[1m18/18\u001b[0m \u001b[32m━━━━━━━━━━━━━━━━━━━━\u001b[0m\u001b[37m\u001b[0m \u001b[1m0s\u001b[0m 6ms/step - accuracy: 0.5413 - loss: 0.6921 - val_accuracy: 0.4571 - val_loss: 3.4843 - learning_rate: 5.0000e-04\nEpoch 10/50\n\u001b[1m18/18\u001b[0m \u001b[32m━━━━━━━━━━━━━━━━━━━━\u001b[0m\u001b[37m\u001b[0m \u001b[1m0s\u001b[0m 6ms/step - accuracy: 0.5958 - loss: 0.6903 - val_accuracy: 0.4571 - val_loss: 4.9132 - learning_rate: 2.5000e-04\nEpoch 11/50\n\u001b[1m18/18\u001b[0m \u001b[32m━━━━━━━━━━━━━━━━━━━━\u001b[0m\u001b[37m\u001b[0m \u001b[1m0s\u001b[0m 6ms/step - accuracy: 0.5852 - loss: 0.6905 - val_accuracy: 0.4571 - val_loss: 6.4945 - learning_rate: 2.5000e-04\n",
          "output_type": "stream"
        }
      ],
      "execution_count": null
    },
    {
      "cell_type": "code",
      "source": [
        "import matplotlib.pyplot as plt\n",
        "import pandas as pd\n",
        "\n",
        "# Assuming 'history' is the History object returned from model.fit()\n",
        "# Convert the history.history dict to a pandas DataFrame\n",
        "history_df = pd.DataFrame(history.history)\n",
        "\n",
        "# Plotting training & validation accuracy\n",
        "plt.figure(figsize=(12, 6))\n",
        "\n",
        "plt.subplot(1, 2, 1)\n",
        "plt.plot(history_df['accuracy'], label='Training Accuracy')\n",
        "plt.plot(history_df['val_accuracy'], label='Validation Accuracy')\n",
        "plt.xlabel('Epochs')\n",
        "plt.ylabel('Accuracy')\n",
        "plt.title('Training and Validation Accuracy')\n",
        "plt.legend()\n",
        "\n",
        "# Plotting training & validation loss\n",
        "plt.subplot(1, 2, 2)\n",
        "plt.plot(history_df['loss'], label='Training Loss')\n",
        "plt.plot(history_df['val_loss'], label='Validation Loss')\n",
        "plt.xlabel('Epochs')\n",
        "plt.ylabel('Loss')\n",
        "plt.title('Training and Validation Loss')\n",
        "plt.legend()\n",
        "\n",
        "plt.tight_layout()\n",
        "plt.show()\n"
      ],
      "metadata": {
        "trusted": true,
        "execution": {
          "iopub.status.busy": "2025-05-01T07:41:57.849515Z",
          "iopub.execute_input": "2025-05-01T07:41:57.849860Z",
          "iopub.status.idle": "2025-05-01T07:41:57.871061Z",
          "shell.execute_reply.started": "2025-05-01T07:41:57.849827Z",
          "shell.execute_reply": "2025-05-01T07:41:57.870022Z"
        },
        "id": "TvZ05-VyfA21",
        "outputId": "515d9fd3-535a-475a-e6e5-143eedd2af29"
      },
      "outputs": [
        {
          "traceback": [
            "\u001b[0;31m---------------------------------------------------------------------------\u001b[0m",
            "\u001b[0;31mNameError\u001b[0m                                 Traceback (most recent call last)",
            "\u001b[0;32m<ipython-input-25-65a238eae6f3>\u001b[0m in \u001b[0;36m<cell line: 6>\u001b[0;34m()\u001b[0m\n\u001b[1;32m      4\u001b[0m \u001b[0;31m# Assuming 'history' is the History object returned from model.fit()\u001b[0m\u001b[0;34m\u001b[0m\u001b[0;34m\u001b[0m\u001b[0m\n\u001b[1;32m      5\u001b[0m \u001b[0;31m# Convert the history.history dict to a pandas DataFrame\u001b[0m\u001b[0;34m\u001b[0m\u001b[0;34m\u001b[0m\u001b[0m\n\u001b[0;32m----> 6\u001b[0;31m \u001b[0mhistory_df\u001b[0m \u001b[0;34m=\u001b[0m \u001b[0mpd\u001b[0m\u001b[0;34m.\u001b[0m\u001b[0mDataFrame\u001b[0m\u001b[0;34m(\u001b[0m\u001b[0mhistory\u001b[0m\u001b[0;34m.\u001b[0m\u001b[0mhistory\u001b[0m\u001b[0;34m)\u001b[0m\u001b[0;34m\u001b[0m\u001b[0;34m\u001b[0m\u001b[0m\n\u001b[0m\u001b[1;32m      7\u001b[0m \u001b[0;34m\u001b[0m\u001b[0m\n\u001b[1;32m      8\u001b[0m \u001b[0;31m# Plotting training & validation accuracy\u001b[0m\u001b[0;34m\u001b[0m\u001b[0;34m\u001b[0m\u001b[0m\n",
            "\u001b[0;31mNameError\u001b[0m: name 'history' is not defined"
          ],
          "ename": "NameError",
          "evalue": "name 'history' is not defined",
          "output_type": "error"
        }
      ],
      "execution_count": null
    },
    {
      "cell_type": "code",
      "source": [
        "# Save the entire model (architecture + weights + optimizer state)\n",
        "model.save('Q_CNN_cataract_detection_model.h5')\n",
        "\n",
        "# Alternatively, you can save just the weights\n",
        "model.save_weights('Q_CNN_cataract_detection_model_.weights.h5')\n",
        "\n",
        "print(\"Model saved successfully.\")\n"
      ],
      "metadata": {
        "trusted": true,
        "execution": {
          "iopub.status.busy": "2025-05-01T07:42:02.060368Z",
          "iopub.execute_input": "2025-05-01T07:42:02.060671Z",
          "iopub.status.idle": "2025-05-01T07:42:02.079452Z",
          "shell.execute_reply.started": "2025-05-01T07:42:02.060649Z",
          "shell.execute_reply": "2025-05-01T07:42:02.078360Z"
        },
        "id": "0c2sDxhofA21",
        "outputId": "9943f742-7cad-449a-edc7-609091af993d"
      },
      "outputs": [
        {
          "traceback": [
            "\u001b[0;31m---------------------------------------------------------------------------\u001b[0m",
            "\u001b[0;31mNameError\u001b[0m                                 Traceback (most recent call last)",
            "\u001b[0;32m<ipython-input-26-503f1c7e4665>\u001b[0m in \u001b[0;36m<cell line: 2>\u001b[0;34m()\u001b[0m\n\u001b[1;32m      1\u001b[0m \u001b[0;31m# Save the entire model (architecture + weights + optimizer state)\u001b[0m\u001b[0;34m\u001b[0m\u001b[0;34m\u001b[0m\u001b[0m\n\u001b[0;32m----> 2\u001b[0;31m \u001b[0mmodel\u001b[0m\u001b[0;34m.\u001b[0m\u001b[0msave\u001b[0m\u001b[0;34m(\u001b[0m\u001b[0;34m'Q_CNN_cataract_detection_model.h5'\u001b[0m\u001b[0;34m)\u001b[0m\u001b[0;34m\u001b[0m\u001b[0;34m\u001b[0m\u001b[0m\n\u001b[0m\u001b[1;32m      3\u001b[0m \u001b[0;34m\u001b[0m\u001b[0m\n\u001b[1;32m      4\u001b[0m \u001b[0;31m# Alternatively, you can save just the weights\u001b[0m\u001b[0;34m\u001b[0m\u001b[0;34m\u001b[0m\u001b[0m\n\u001b[1;32m      5\u001b[0m \u001b[0mmodel\u001b[0m\u001b[0;34m.\u001b[0m\u001b[0msave_weights\u001b[0m\u001b[0;34m(\u001b[0m\u001b[0;34m'Q_CNN_cataract_detection_model_.weights.h5'\u001b[0m\u001b[0;34m)\u001b[0m\u001b[0;34m\u001b[0m\u001b[0;34m\u001b[0m\u001b[0m\n",
            "\u001b[0;31mNameError\u001b[0m: name 'model' is not defined"
          ],
          "ename": "NameError",
          "evalue": "name 'model' is not defined",
          "output_type": "error"
        }
      ],
      "execution_count": null
    },
    {
      "cell_type": "code",
      "source": [],
      "metadata": {
        "trusted": true,
        "id": "ilCi--i7fA22"
      },
      "outputs": [],
      "execution_count": null
    }
  ]
}